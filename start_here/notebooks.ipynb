{
 "cells": [
  {
   "cell_type": "markdown",
   "metadata": {},
   "source": [
    "You can generate the Quarto render/preview from a notebook."
   ]
  },
  {
   "cell_type": "code",
   "execution_count": null,
   "metadata": {},
   "outputs": [],
   "source": [
    "import plotly.express as px\n",
    "import plotly.io as pio\n",
    "gapminder = px.data.gapminder()\n",
    "gapminder2007 = gapminder.query(\"year == 2007\")\n",
    "fig = px.scatter(gapminder2007, \n",
    "                 x=\"gdpPercap\", y=\"lifeExp\", color=\"continent\", \n",
    "                 size=\"pop\", size_max=60,\n",
    "                 hover_name=\"country\")\n",
    "fig.show()"
   ]
  }
 ],
 "metadata": {
  "kernelspec": {
   "display_name": "Python 3",
   "language": "python",
   "name": "python3"
  },
  "language_info": {
   "codemirror_mode": {
    "name": "ipython",
    "version": 3
   },
   "file_extension": ".py",
   "mimetype": "text/x-python",
   "name": "python",
   "nbconvert_exporter": "python",
   "pygments_lexer": "ipython3",
   "version": "3.10.13"
  }
 },
 "nbformat": 4,
 "nbformat_minor": 2
}
